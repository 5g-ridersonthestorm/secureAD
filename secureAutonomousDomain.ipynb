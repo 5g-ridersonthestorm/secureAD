import matplotlib.pyplot as plt
import pandas as pd
from matplotlib.ticker import FuncFormatter
from functools import partial



def to_percent(y, position, n):
    s = str(round(100 * y / n, 3))
    return s + '%'


callEvents1 = pd.read_csv(r"D:\Documents\Projects\TMF\Catalysts 2020\Storm_EV\Data\callSessions1.csv")
(callEvents1.callDuration).hist(bins=60)
plt.color=('purple')
plt.xlabel('Call Holding Time(secs)')
plt.ylabel('Frequency')
plt.figure.figsize = (10, 6)

percent_formatter = partial(to_percent, n=len(callEvents1.callDuration))
formatter = FuncFormatter(percent_formatter)
plt.gca().yaxis.set_major_formatter(formatter)

plt.show()



######################################### 

import numpy as np
import matplotlib.gridspec as gridspec
from math import *
from decimal import Decimal

def euclidean_distance(x,y):
    return sqrt(sum(pow(a-b,2) for a, b in zip(x, y)))

def manhattan_distance(x,y):
    return sum(abs(a-b) for a,b in zip(x,y))


def minkowski_distance(x,y,p_value):
    return nth_root(sum(pow(abs(a-b),p_value) for a,b in zip(x, y)),p_value)

def nth_root(value, n_root):
    root_value  = 1/float(n_root)
    return round (Decimal(value) ** Decimal(root_value),3)

def cosine_similarity(x,y):
    numerator = sum(a*b for a,b in zip(x,y))
    denominator = square_rooted(x)*square_rooted(y)
    return round(numerator/float(denominator),3)

def square_rooted(x):
    return round(sqrt(sum([a*a for a in x])),3)


def jaccard_similarity(x,y):
    intersection_cardinality = len(set.intersection(*[set(x), set(y)]))
    union_cardinality = len(set.union(*[set(x), set(y)]))
    return intersection_cardinality/float(union_cardinality)


xcoords = [10]
# colors for the lines
colors = ['m']



callEvents1.describe()


rrcConns = callEvents1[callEvents1.CallType=='RRCConnection']
handovers = callEvents1[callEvents1.CallType=='Handover']
callReest = callEvents1[callEvents1.CallType=='RRCReestablishment']
error = callEvents1[callEvents1.CallType=='Error']


rrcConns.callDuration.hist(callEvents1.CallType, bins=60)
percent_formatter = partial(to_percent, n=len(callEvents1.callDuration))
formatter = FuncFormatter(percent_formatter)
plt.gca().yaxis.set_major_formatter(formatter)
plt.xlabel('Call Holding Time(secs)')

for xc,c in zip(xcoords,colors):
    plt.axvline(x=xc, label='RRC Inactivity Timer(secs) = {}'.format(xc), c=c)

plt.legend()
plt.show()



handovers.callDuration.hist(callEvents1.CallType, bins=60)
percent_formatter = partial(to_percent, n=len(callEvents1.callDuration))
formatter = FuncFormatter(percent_formatter)
plt.gca().yaxis.set_major_formatter(formatter)
plt.xlabel('Call Holding Time(secs)')
for xc,c in zip(xcoords,colors):
    plt.axvline(x=xc, label='RRC Inactivity Timer(secs) = {}'.format(xc), c=c)
plt.legend()
plt.show()

callReest.callDuration.hist(callEvents1.CallType, bins=60)
percent_formatter = partial(to_percent, n=len(callEvents1.callDuration))
formatter = FuncFormatter(percent_formatter)
plt.gca().yaxis.set_major_formatter(formatter)
plt.xlabel('Call Holding Time(secs)')
for xc,c in zip(xcoords,colors):
    plt.axvline(x=xc, label='RRC Inactivity Timer(secs) = {}'.format(xc), c=c)

plt.legend()
plt.show()

error.callDuration.hist(callEvents1.CallType, bins=60)
percent_formatter = partial(to_percent, n=len(callEvents1.callDuration))
formatter = FuncFormatter(percent_formatter)
plt.gca().yaxis.set_major_formatter(formatter)
plt.xlabel('Call Holding Time(secs)')
for xc,c in zip(xcoords,colors):
    plt.axvline(x=xc, label='RRC Inactivity Timer(secs) = {}'.format(xc), c=c)

plt.legend()
plt.show()


rrcConnsX = callEvents1[callEvents1.callDuration <= 20]


print (rrcConnsX)



######################################### 

def unique(list1): 
    # insert the list to the set 
    list_set = set(list1) 
    # convert the set to the list 
    unique_list = (list(list_set)) 
    for x in unique_list: 
        print ( x )
    return unique_list

nodes = unique(rrcConns.NodeID)
print (nodes)

print ('-----')
print (len(nodes))


        
def draw_histograms(df, variables, n_rows, n_cols):
    fig=plt.figure()
    for i, var_name in enumerate(variables):
        ax=fig.add_subplot(n_rows,n_cols,i+1)
        plts = df[df.NodeID==var_name]
        plts.callDuration.hist(bins=60,ax=ax)
        ax.set_title(var_name)
    plt.show()

draw_histograms(rrcConnsX, nodes, 9, 5)


